{
 "cells": [
  {
   "cell_type": "code",
   "execution_count": 3,
   "id": "1d87ea5e-bef7-47b1-ad88-63536e720166",
   "metadata": {},
   "outputs": [
    {
     "name": "stderr",
     "output_type": "stream",
     "text": [
      "C:\\Users\\kkibet\\AppData\\Local\\Temp\\ipykernel_21192\\994679258.py:7: DtypeWarning: Columns (6,7,8,10,15,16,17,18,19,21,24) have mixed types. Specify dtype option on import or set low_memory=False.\n",
      "  df = pd.read_csv(file_path, encoding='latin1')\n"
     ]
    },
    {
     "name": "stdout",
     "output_type": "stream",
     "text": [
      "                CATEGORY  count_missing_serial_numbers\n",
      "0          1000-12001-20                         33863\n",
      "1         1000-11002.-10                         14916\n",
      "2          1000-12090-10                         68267\n",
      "3          1000-12001-10                         15515\n",
      "4    IT-Printers-GENERAL                             4\n",
      "..                   ...                           ...\n",
      "171        1000-18100-30                             2\n",
      "172       6000-62000.-10                             0\n",
      "173        4000-48300-30                             1\n",
      "174        5000-51000-50                             0\n",
      "175        1000-14004-10                             0\n",
      "\n",
      "[176 rows x 2 columns]\n"
     ]
    }
   ],
   "source": [
    "import pandas as pd\n",
    "\n",
    "\n",
    "file_path = '1.csv'\n",
    "\n",
    "# Load the dataset\n",
    "df = pd.read_csv(file_path, encoding='latin1')\n",
    "# Step 2: Define a function to check if a serial number is considered missing\n",
    "def is_serial_number_missing(serial):\n",
    "    return pd.isna(serial) or str(serial).strip() == ''\n",
    "\n",
    "# Step 3: Apply the function to filter rows where SERIAL_NUMBER is missing\n",
    "df_missing_serial = df[df['SERIAL_NUMBER'].apply(is_serial_number_missing)]\n",
    "\n",
    "# Step 4: Group by CATEGORY and count occurrences of missing serial numbers\n",
    "category_counts = df_missing_serial.groupby('CATEGORY').size()\n",
    "\n",
    "# Step 5: Ensure all categories are included, even those with count 0\n",
    "all_categories = df['CATEGORY'].unique()\n",
    "category_counts = category_counts.reindex(all_categories, fill_value=0)\n",
    "\n",
    "# Step 6: Convert the Series to a DataFrame for better readability (optional)\n",
    "category_counts_df = category_counts.reset_index(name='count_missing_serial_numbers')\n",
    "\n",
    "category_counts_df.to_csv('1c.CSV', index=False)\n",
    "\n",
    "\n",
    "print(category_counts_df)\n"
   ]
  },
  {
   "cell_type": "code",
   "execution_count": null,
   "id": "5a3c74bb-fe84-40a7-8aeb-39b40b3a9fb5",
   "metadata": {},
   "outputs": [],
   "source": []
  }
 ],
 "metadata": {
  "kernelspec": {
   "display_name": "Python 3 (ipykernel)",
   "language": "python",
   "name": "python3"
  },
  "language_info": {
   "codemirror_mode": {
    "name": "ipython",
    "version": 3
   },
   "file_extension": ".py",
   "mimetype": "text/x-python",
   "name": "python",
   "nbconvert_exporter": "python",
   "pygments_lexer": "ipython3",
   "version": "3.12.4"
  }
 },
 "nbformat": 4,
 "nbformat_minor": 5
}
